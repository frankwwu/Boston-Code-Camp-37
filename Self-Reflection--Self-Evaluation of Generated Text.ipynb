{
 "cells": [
  {
   "cell_type": "markdown",
   "id": "8ad976db-fb87-4a92-b0d2-06defc098339",
   "metadata": {},
   "source": [
    "# Self-Reflection: Self-Evaluation of Generated Text"
   ]
  },
  {
   "cell_type": "markdown",
   "id": "a4847a54-c03d-467b-b72c-8f7df404201b",
   "metadata": {},
   "source": [
    "Self-reflection in AI is when the system looks at its own thinking or decision-making process to improve or adjust its responses.\n",
    "\n",
    "This example has the model:\n",
    "1. Generate an initial response.\n",
    "2. Evaluate its quality.\n",
    "3. Uses the feedback and suggestions to guide the rewriting process."
   ]
  },
  {
   "cell_type": "code",
   "execution_count": 1,
   "id": "7514720a-14bc-4552-ade5-fa03f86f4c73",
   "metadata": {
    "height": 676
   },
   "outputs": [
    {
     "name": "stderr",
     "output_type": "stream",
     "text": [
      "/usr/local/lib/python3.11/site-packages/langchain_core/_api/deprecation.py:119: LangChainDeprecationWarning: The class `ChatOpenAI` was deprecated in LangChain 0.0.10 and will be removed in 0.3.0. An updated version of the class exists in the langchain-openai package and should be used instead. To use it run `pip install -U langchain-openai` and import as `from langchain_openai import ChatOpenAI`.\n",
      "  warn_deprecated(\n",
      "/usr/local/lib/python3.11/site-packages/langchain_core/_api/deprecation.py:119: LangChainDeprecationWarning: The method `BaseChatModel.predict_messages` was deprecated in langchain-core 0.1.7 and will be removed in 0.3.0. Use invoke instead.\n",
      "  warn_deprecated(\n"
     ]
    },
    {
     "name": "stdout",
     "output_type": "stream",
     "text": [
      "Initial Response:\n",
      " Recursion in programming is when a function calls itself to solve a problem. It's like a loop where the function keeps calling itself until it reaches a base case, which is a condition that stops the function from calling itself again. Recursion is often used to solve problems that can be broken down into smaller, similar subproblems. It can make code more concise and elegant for certain types of problems.\n",
      "\n",
      "Reflection:\n",
      " The response provides a clear and concise explanation of recursion in programming, making it easy for a beginner to understand the concept. It covers the basic idea of recursion, including how it works and its purpose in solving problems. The response could be improved by providing a simple example to illustrate how recursion is implemented in code. This would help beginners visualize how recursion works in practice. Additionally, mentioning the potential drawbacks of recursion, such as stack overflow errors, could provide a more comprehensive understanding of the topic.\n",
      "\n",
      "Revised Response:\n",
      " Recursion in programming is a technique where a function calls itself to solve a problem. It is commonly used to break down complex problems into smaller, more manageable subproblems. By repeatedly applying the same function to these subproblems, the overall problem can be solved. \n",
      "\n",
      "For example, consider the factorial function in mathematics. The factorial of a non-negative integer n is the product of all positive integers less than or equal to n. This can be defined recursively as follows:\n",
      "\n",
      "```python\n",
      "def factorial(n):\n",
      "    if n == 0:\n",
      "        return 1\n",
      "    else:\n",
      "        return n * factorial(n-1)\n",
      "```\n",
      "\n",
      "In this code snippet, the `factorial` function calls itself with a smaller input (`n-1`) until it reaches the base case (`n == 0`), at which point it returns 1. This illustrates how recursion can be used to solve problems by breaking them down into simpler instances.\n",
      "\n",
      "However, it's important to note that recursion can lead to stack overflow errors if not implemented carefully. This can happen when a large number of recursive calls are made, causing the call stack to exceed its memory limit. It's essential to consider the potential drawbacks of recursion and use it judiciously in programming.\n"
     ]
    }
   ],
   "source": [
    "from langchain.chat_models import ChatOpenAI\n",
    "from langchain.schema import SystemMessage, HumanMessage\n",
    "\n",
    "# Initialize the model\n",
    "model = ChatOpenAI(model=\"gpt-3.5-turbo\", temperature=0)\n",
    "\n",
    "def generate_and_reflect():\n",
    "    # Step 1: Generate an initial response\n",
    "    prompt = \"Explain the concept of recursion in programming in simple terms.\"\n",
    "    initial_response = model.predict_messages([\n",
    "        SystemMessage(content=\"You are a helpful assistant.\"),\n",
    "        HumanMessage(content=prompt)\n",
    "    ]).content\n",
    "\n",
    "    # Step 2: Ask the model to evaluate its response\n",
    "    reflection_prompt = (\n",
    "        f\"Here is your response:\\n\\n{initial_response}\\n\\n\"\n",
    "        \"Evaluate the response's clarity, completeness, and usefulness for a beginner. \"\n",
    "        \"Provide suggestions for improvement if necessary.\"\n",
    "    )\n",
    "    reflection_response = model.predict_messages([\n",
    "        SystemMessage(content=\"You are a reflective AI.\"),\n",
    "        HumanMessage(content=reflection_prompt)\n",
    "    ]).content\n",
    "\n",
    "    # Step 3: Revise the output based on reflection \n",
    "    revision_prompt = f\"Rewrite the response with the following improvements in mind:\\n{reflection_response}\"\n",
    "    revised_response = model.predict_messages([\n",
    "        SystemMessage(content=\"You are an improving assistant.\"),\n",
    "        HumanMessage(content=revision_prompt)  # Use revision_prompt here\n",
    "    ]).content\n",
    "\n",
    "    return initial_response, reflection_response, revised_response\n",
    "\n",
    "# Run the function and display the results\n",
    "response, reflection, revised_response = generate_and_reflect()\n",
    "print(\"Initial Response:\\n\", response)\n",
    "print(\"\\nReflection:\\n\", reflection)\n",
    "print(\"\\nRevised Response:\\n\", revised_response)"
   ]
  },
  {
   "cell_type": "code",
   "execution_count": null,
   "id": "e8d25c0f",
   "metadata": {
    "height": 30
   },
   "outputs": [],
   "source": []
  }
 ],
 "metadata": {
  "kernelspec": {
   "display_name": "Python 3 (ipykernel)",
   "language": "python",
   "name": "python3"
  },
  "language_info": {
   "codemirror_mode": {
    "name": "ipython",
    "version": 3
   },
   "file_extension": ".py",
   "mimetype": "text/x-python",
   "name": "python",
   "nbconvert_exporter": "python",
   "pygments_lexer": "ipython3",
   "version": "3.10.15"
  }
 },
 "nbformat": 4,
 "nbformat_minor": 5
}
