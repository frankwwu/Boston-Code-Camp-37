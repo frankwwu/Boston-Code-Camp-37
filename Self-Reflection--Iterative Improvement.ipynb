{
 "cells": [
  {
   "cell_type": "markdown",
   "id": "911b3b37-3b29-4833-94f2-bfe47af00c83",
   "metadata": {},
   "source": [
    "# Self-Reflection: Iterative Improvement"
   ]
  },
  {
   "cell_type": "markdown",
   "id": "c540b4b4-a496-465e-a47b-52701c820c7b",
   "metadata": {},
   "source": [
    "Self-reflection in AI refers to the process where the system evaluates its own reasoning or decision-making to refine and enhance its responses.\n",
    "\n",
    "This Python code demonstrates a workflow for iterative improvement of a response using the LangChain library. It leverages a ChatOpenAI model (gpt-3.5-turbo) to perform the following steps:\n",
    "1. Generate an initial response.  \n",
    "2. Provide feedback on the initial response.  \n",
    "3. Refine the response by incorporating feedback and suggestions. "
   ]
  },
  {
   "cell_type": "code",
   "execution_count": 1,
   "id": "05dbc81e",
   "metadata": {
    "height": 693
   },
   "outputs": [
    {
     "name": "stderr",
     "output_type": "stream",
     "text": [
      "/usr/local/lib/python3.11/site-packages/langchain_core/_api/deprecation.py:119: LangChainDeprecationWarning: The class `ChatOpenAI` was deprecated in LangChain 0.0.10 and will be removed in 0.3.0. An updated version of the class exists in the langchain-openai package and should be used instead. To use it run `pip install -U langchain-openai` and import as `from langchain_openai import ChatOpenAI`.\n",
      "  warn_deprecated(\n",
      "/usr/local/lib/python3.11/site-packages/langchain_core/_api/deprecation.py:119: LangChainDeprecationWarning: The method `BaseChatModel.predict_messages` was deprecated in langchain-core 0.1.7 and will be removed in 0.3.0. Use invoke instead.\n",
      "  warn_deprecated(\n"
     ]
    },
    {
     "name": "stdout",
     "output_type": "stream",
     "text": [
      "Initial Response:\n",
      " Functional programming offers several benefits, including:\n",
      "\n",
      "1. **Immutability**: In functional programming, data is immutable, meaning that once a value is assigned, it cannot be changed. This helps prevent bugs related to unexpected changes in data and makes programs easier to reason about.\n",
      "\n",
      "2. **Pure Functions**: Functional programming emphasizes the use of pure functions, which have no side effects and always return the same output for a given input. This makes code easier to test, debug, and maintain.\n",
      "\n",
      "3. **Higher-Order Functions**: Functional programming languages treat functions as first-class citizens, allowing functions to be passed as arguments to other functions or returned as values. This enables powerful abstractions and concise code.\n",
      "\n",
      "4. **Concurrency**: Functional programming encourages the use of immutable data and pure functions, which can make it easier to write concurrent and parallel code without worrying about shared state and race conditions.\n",
      "\n",
      "5. **Modularity**: Functional programming promotes breaking down problems into smaller, composable functions, which can be combined to solve larger problems. This leads to more modular and reusable code.\n",
      "\n",
      "6. **Declarative Style**: Functional programming focuses on what should be done rather than how it should be done, leading to more declarative and expressive code that is easier to understand.\n",
      "\n",
      "7. **Lazy Evaluation**: Some functional programming languages support lazy evaluation, which delays the evaluation of an expression until its value is actually needed. This can lead to more efficient use of resources.\n",
      "\n",
      "Overall, functional programming can lead to code that is more robust, maintainable, and scalable, making it a popular choice for many developers.\n",
      "\n",
      "Feedback:\n",
      " Your response provides a comprehensive overview of the benefits of functional programming. However, here are a few suggestions for improvement:\n",
      "\n",
      "1. **Immutability**: While immutability is a key feature of functional programming, it's worth mentioning that not all data in functional programming is immutable. Immutable data structures are commonly used, but there are cases where mutable data may be necessary for performance reasons.\n",
      "\n",
      "2. **Concurrency**: While functional programming can make it easier to write concurrent code, it's important to note that managing concurrency in functional programming can still be complex, especially in distributed systems. It may be helpful to mention that functional programming provides tools and techniques to address these challenges.\n",
      "\n",
      "3. **Lazy Evaluation**: Lazy evaluation is indeed a feature of some functional programming languages, but not all functional languages support it. It might be useful to clarify that lazy evaluation is not a universal feature of functional programming.\n",
      "\n",
      "Here is a revised version incorporating these suggestions:\n",
      "\n",
      "Functional programming offers several benefits, including:\n",
      "\n",
      "1. **Immutability**: Functional programming promotes the use of immutable data structures, which helps prevent bugs related to unexpected changes in data and makes programs easier to reason about. While immutability is a key feature, there are cases where mutable data may be necessary for performance reasons.\n",
      "\n",
      "2. **Pure Functions**: Functional programming emphasizes the use of pure functions, which have no side effects and always return the same output for a given input. This makes code easier to test, debug, and maintain.\n",
      "\n",
      "3. **Higher-Order Functions**: Functional programming languages treat functions as first-class citizens, enabling powerful abstractions and concise code through the use of higher-order functions.\n",
      "\n",
      "4. **Concurrency**: Functional programming encourages the use of immutable data and pure functions, which can facilitate writing concurrent code. However, managing concurrency in functional programming, especially in distributed systems, can still be complex.\n",
      "\n",
      "5. **Modularity**: Functional programming promotes modularity by breaking down problems into smaller, composable functions, leading to more reusable code.\n",
      "\n",
      "6. **Declarative Style**: Functional programming focuses on what should be done rather than how it should be done, resulting in more declarative and expressive code.\n",
      "\n",
      "7. **Lazy Evaluation**: Some functional programming languages support lazy evaluation, which delays the evaluation of an expression until its value is needed, potentially leading to more efficient resource usage.\n",
      "\n",
      "Overall, functional programming can lead to code that is more robust, maintainable, and scalable, making it a popular choice for many developers.\n",
      "\n",
      "Improved Response:\n",
      " Functional programming is a programming paradigm that offers numerous benefits, including:\n",
      "\n",
      "1. **Immutability**: Functional programming promotes the use of immutable data structures, which helps prevent bugs related to unexpected changes in data and makes programs easier to reason about. While immutability is a key feature, there are cases where mutable data may be necessary for performance reasons.\n",
      "\n",
      "2. **Pure Functions**: Functional programming emphasizes the use of pure functions, which have no side effects and always return the same output for a given input. This makes code easier to test, debug, and maintain.\n",
      "\n",
      "3. **Higher-Order Functions**: Functional programming languages treat functions as first-class citizens, enabling powerful abstractions and concise code through the use of higher-order functions.\n",
      "\n",
      "4. **Concurrency**: Functional programming encourages the use of immutable data and pure functions, which can facilitate writing concurrent code. However, managing concurrency in functional programming, especially in distributed systems, can still be complex.\n",
      "\n",
      "5. **Modularity**: Functional programming promotes modularity by breaking down problems into smaller, composable functions, leading to more reusable code.\n",
      "\n",
      "6. **Declarative Style**: Functional programming focuses on what should be done rather than how it should be done, resulting in more declarative and expressive code.\n",
      "\n",
      "7. **Lazy Evaluation**: Some functional programming languages support lazy evaluation, which delays the evaluation of an expression until its value is needed, potentially leading to more efficient resource usage.\n",
      "\n",
      "Overall, functional programming can lead to code that is more robust, maintainable, and scalable, making it a popular choice for many developers.\n"
     ]
    }
   ],
   "source": [
    "from langchain.chat_models import ChatOpenAI\n",
    "from langchain.schema import SystemMessage, HumanMessage\n",
    "\n",
    "# Initialize the model\n",
    "model = ChatOpenAI(model=\"gpt-3.5-turbo\", temperature=0)\n",
    "\n",
    "def iterative_improvement():\n",
    "    # Step 1: Generate the initial response\n",
    "    initial_prompt = \"Describe the benefits of functional programming.\"\n",
    "    initial_response = model.predict_messages([\n",
    "        SystemMessage(content=\"You are a helpful assistant.\"),\n",
    "        HumanMessage(content=initial_prompt)\n",
    "    ]).content\n",
    "\n",
    "    # Step 2: Generate feedback on the initial response\n",
    "    feedback_prompt = (\n",
    "        f\"Here is your response:\\n\\n{initial_response}\\n\\n\"\n",
    "        \"Identify any inaccuracies or areas for improvement. Suggest a revised version.\"\n",
    "    )\n",
    "    feedback_response = model.predict_messages([\n",
    "        SystemMessage(content=\"You are a reflective AI.\"),\n",
    "        HumanMessage(content=feedback_prompt)\n",
    "    ]).content\n",
    "\n",
    "    # Step 3: Generate the improved response based on feedback\n",
    "    improvement_prompt = (\n",
    "        f\"Using this feedback:\\n\\n{feedback_response}\\n\\n\"\n",
    "        \"Rewrite the original response to incorporate the suggestions.\"\n",
    "    )\n",
    "    improved_response = model.predict_messages([\n",
    "        SystemMessage(content=\"You are an improving assistant.\"),\n",
    "        HumanMessage(content=improvement_prompt)\n",
    "    ]).content\n",
    "\n",
    "    return initial_response, feedback_response, improved_response\n",
    "\n",
    "initial, feedback, improved = iterative_improvement()\n",
    "print(\"Initial Response:\\n\", initial)\n",
    "print(\"\\nFeedback:\\n\", feedback)\n",
    "print(\"\\nImproved Response:\\n\", improved)"
   ]
  },
  {
   "cell_type": "code",
   "execution_count": null,
   "id": "06a43659",
   "metadata": {
    "height": 30
   },
   "outputs": [],
   "source": []
  }
 ],
 "metadata": {
  "kernelspec": {
   "display_name": "Python 3 (ipykernel)",
   "language": "python",
   "name": "python3"
  },
  "language_info": {
   "codemirror_mode": {
    "name": "ipython",
    "version": 3
   },
   "file_extension": ".py",
   "mimetype": "text/x-python",
   "name": "python",
   "nbconvert_exporter": "python",
   "pygments_lexer": "ipython3",
   "version": "3.10.15"
  }
 },
 "nbformat": 4,
 "nbformat_minor": 5
}
